{
 "cells": [
  {
   "cell_type": "markdown",
   "metadata": {},
   "source": [
    "# Funciones definidas por el usuario en Python"
   ]
  },
  {
   "cell_type": "code",
   "execution_count": 1,
   "metadata": {},
   "outputs": [],
   "source": [
    "def factorial(n):\n",
    "    s = 1.0\n",
    "    for i in range(1,n+1):\n",
    "        s *= i\n",
    "    return s"
   ]
  },
  {
   "cell_type": "code",
   "execution_count": 2,
   "metadata": {},
   "outputs": [
    {
     "data": {
      "text/plain": [
       "3628800.0"
      ]
     },
     "execution_count": 2,
     "metadata": {},
     "output_type": "execute_result"
    }
   ],
   "source": [
    "factorial(10)"
   ]
  },
  {
   "cell_type": "markdown",
   "metadata": {},
   "source": [
    "## Ejemplos"
   ]
  },
  {
   "cell_type": "markdown",
   "metadata": {},
   "source": [
    "La coeficiente binomial es de la forma:\n",
    "\\begin{equation}\n",
    "    \\binom{n}{k} = \\frac{n!}{k!(n-k)!} = \\frac{n\\times(n-1)\\times(n-2)\\times\\ldots\\times(n-k+1)}{1\\times2\\times\\ldots\\times k}\n",
    "\\end{equation}\n",
    "\n",
    "con $k>0$ y $\\binom{n}{k}=1$ para $k=0$.\n",
    "\n",
    "Calcular los coeficientes binomiales para un $n$ y un $k$ determinados, retornando simbre un $int$"
   ]
  },
  {
   "cell_type": "code",
   "execution_count": 3,
   "metadata": {},
   "outputs": [],
   "source": [
    "def binomial(n, k):\n",
    "    if k > 0:\n",
    "        res = factorial(n)/( factorial(k)*factorial(n-k))\n",
    "    elif k == 0:\n",
    "        res = 1\n",
    "    elif k < 0:\n",
    "        return(print(\"k<0; imposible to calculate\"))\n",
    "    return(int(res))\n",
    "\n",
    "def binomial2(n, k):\n",
    "    if k > 0:\n",
    "        den = factorial(k)\n",
    "        num = 1.0\n",
    "        tmp = n\n",
    "        while( tmp >= (n-k+1)  ):\n",
    "            num *= tmp\n",
    "            tmp -= 1\n",
    "        res = num/den\n",
    "    elif k < 0:\n",
    "        return(print(\"k<0; imposible to calculate\"))\n",
    "    return(int(res))"
   ]
  },
  {
   "cell_type": "code",
   "execution_count": 4,
   "metadata": {},
   "outputs": [
    {
     "name": "stdout",
     "output_type": "stream",
     "text": [
      "1140 1140\n"
     ]
    }
   ],
   "source": [
    "a = binomial(20,3)\n",
    "b = binomial2(20,3)\n",
    "\n",
    "print(a,b)"
   ]
  },
  {
   "cell_type": "markdown",
   "metadata": {},
   "source": [
    "## Funciones de recursión"
   ]
  },
  {
   "cell_type": "code",
   "execution_count": 47,
   "metadata": {},
   "outputs": [],
   "source": [
    "def factorialRec(n):\n",
    "    if n == 1:\n",
    "        return(1)\n",
    "    else:\n",
    "        return(n*factorialRec(n-1))"
   ]
  },
  {
   "cell_type": "code",
   "execution_count": 49,
   "metadata": {},
   "outputs": [
    {
     "name": "stdout",
     "output_type": "stream",
     "text": [
      "3628800.0 3628800\n"
     ]
    }
   ],
   "source": [
    "n = 10\n",
    "\n",
    "a = factorial(n)\n",
    "b = factorialRec(n)\n",
    "\n",
    "print(a, b)"
   ]
  }
 ],
 "metadata": {
  "kernelspec": {
   "display_name": "Python 3",
   "language": "python",
   "name": "python3"
  },
  "language_info": {
   "codemirror_mode": {
    "name": "ipython",
    "version": 3
   },
   "file_extension": ".py",
   "mimetype": "text/x-python",
   "name": "python",
   "nbconvert_exporter": "python",
   "pygments_lexer": "ipython3",
   "version": "3.5.2"
  }
 },
 "nbformat": 4,
 "nbformat_minor": 2
}
